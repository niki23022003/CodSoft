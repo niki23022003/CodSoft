{
  "cells": [
    {
      "cell_type": "markdown",
      "metadata": {
        "id": "view-in-github",
        "colab_type": "text"
      },
      "source": [
        "<a href=\"https://colab.research.google.com/github/niki23022003/CodSoft/blob/main/CHATBOT_WITH_RULE_BASED.ipynb\" target=\"_parent\"><img src=\"https://colab.research.google.com/assets/colab-badge.svg\" alt=\"Open In Colab\"/></a>"
      ]
    },
    {
      "cell_type": "code",
      "execution_count": null,
      "metadata": {
        "id": "DQtK09hhXZ8I"
      },
      "outputs": [],
      "source": [
        "#                                                      TASK-1        CHATBOT WITH RULE-BASED RESPONSES"
      ]
    },
    {
      "cell_type": "code",
      "execution_count": null,
      "metadata": {
        "id": "hMkm-drPhvkX"
      },
      "outputs": [],
      "source": [
        "#Build a simple chatbot that responds to user inputs based on predefined rules.\n",
        "#Use if-else statements or pattern matching techniques to identify user queries and provide appropriate responses.\n",
        "#This will give you a basic understanding of natural language processing and conversation flow."
      ]
    },
    {
      "cell_type": "code",
      "execution_count": null,
      "metadata": {
        "id": "wuHuWk6rdwmz"
      },
      "outputs": [],
      "source": [
        "import re\n",
        "import random"
      ]
    },
    {
      "cell_type": "code",
      "execution_count": null,
      "metadata": {
        "id": "ar-RTeSUd1nG"
      },
      "outputs": [],
      "source": [
        "# Define the rules and responses"
      ]
    },
    {
      "cell_type": "code",
      "source": [
        "rules = {\n",
        "    r\"(hello|hi|hey)\": [\"Hello! How can I assist you?\", \"Hi there! How can I help?\"],\n",
        "    r\"what is your name\": [\"I am a chatbot. You can call me ChatGPT.\", \"I'm ChatGPT, a language model.\"],\n",
        "    r\"(how are you|how are you doing)\": [\"I'm just a program, but I'm here and ready to help!\", \"I'm here to assist you!\"],\n",
        "    r\"bye\": [\"Goodbye! Have a great day!\", \"Farewell! Feel free to return anytime.\"],\n",
        "    r\"(favorite color|preferred color)\": [\"I don't have personal preferences, but I can help you with colors!\", \"I'm not capable of having favorites, but I can discuss colors with you.\"],\n",
        "    r\"(help|assist)\": [\"Sure, I'd be happy to help. What do you need?\", \"Of course! How can I assist you today?\"],\n",
        "    r\"default\": [\"I'm sorry, I didn't quite catch that. Could you please provide more details?\", \"I'm not sure I understand. Could you rephrase that for me?\"],\n",
        "}"
      ],
      "metadata": {
        "id": "0GKRl7lYwdQd"
      },
      "execution_count": null,
      "outputs": []
    },
    {
      "cell_type": "code",
      "source": [
        "# Function to match user input with rules and provide responses"
      ],
      "metadata": {
        "id": "skmtMueEweKk"
      },
      "execution_count": null,
      "outputs": []
    },
    {
      "cell_type": "code",
      "source": [
        "def chatbot_response(user_input):\n",
        "    for pattern, responses in rules.items():\n",
        "        if re.search(pattern, user_input, re.IGNORECASE):\n",
        "            return responses\n",
        "    return rules[\"default\"]"
      ],
      "metadata": {
        "id": "9yY7nLvoweg9"
      },
      "execution_count": null,
      "outputs": []
    },
    {
      "cell_type": "code",
      "source": [
        "# Main conversation loop"
      ],
      "metadata": {
        "id": "OjhaPwjwweut"
      },
      "execution_count": null,
      "outputs": []
    },
    {
      "cell_type": "code",
      "source": [
        "print(\"Chatbot: Hello! I'm here to help. Type 'bye' to exit.\")\n",
        "while True:\n",
        "    user_input = input(\"You: \")\n",
        "    if user_input.lower() == 'bye':\n",
        "        print(\"Chatbot: Goodbye! Have a great day!\")\n",
        "        break\n",
        "    responses = chatbot_response(user_input)\n",
        "    response = responses[0] if len(responses) == 1 else responses[random.randint(0, len(responses) - 1)]\n",
        "    print(\"Chatbot:\", response)"
      ],
      "metadata": {
        "colab": {
          "base_uri": "https://localhost:8080/"
        },
        "id": "KQAgadPAwe7_",
        "outputId": "f7c04bca-6738-4481-d642-69f2eeed03d5"
      },
      "execution_count": null,
      "outputs": [
        {
          "output_type": "stream",
          "name": "stdout",
          "text": [
            "Chatbot: Hello! I'm here to help. Type 'bye' to exit.\n",
            "You: hi\n",
            "Chatbot: Hi there! How can I help?\n",
            "You: what is your name?\n",
            "Chatbot: I'm ChatGPT, a language model.\n",
            "You: how are you?\n",
            "Chatbot: I'm just a program, but I'm here and ready to help!\n",
            "You: favorite color\n",
            "Chatbot: I'm not capable of having favorites, but I can discuss colors with you.\n",
            "You: help\n",
            "Chatbot: Sure, I'd be happy to help. What do you need?\n",
            "You: bye\n",
            "Chatbot: Goodbye! Have a great day!\n"
          ]
        }
      ]
    },
    {
      "cell_type": "code",
      "source": [],
      "metadata": {
        "id": "7zVnwl_rwn-J"
      },
      "execution_count": null,
      "outputs": []
    },
    {
      "cell_type": "code",
      "source": [
        "\n"
      ],
      "metadata": {
        "id": "7a1exn_ZwoLa"
      },
      "execution_count": null,
      "outputs": []
    },
    {
      "cell_type": "code",
      "source": [],
      "metadata": {
        "id": "-hIWcatTwoZ_"
      },
      "execution_count": null,
      "outputs": []
    }
  ],
  "metadata": {
    "colab": {
      "provenance": [],
      "authorship_tag": "ABX9TyMzySoApf7Aq9+6ehU/+Ekg",
      "include_colab_link": true
    },
    "kernelspec": {
      "display_name": "Python 3",
      "name": "python3"
    },
    "language_info": {
      "name": "python"
    }
  },
  "nbformat": 4,
  "nbformat_minor": 0
}